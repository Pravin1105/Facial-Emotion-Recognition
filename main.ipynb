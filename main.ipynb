{
 "cells": [
  {
   "cell_type": "code",
   "execution_count": 1,
   "id": "0f0c705a",
   "metadata": {},
   "outputs": [],
   "source": [
    "from keras.models import Sequential\n",
    "from keras.layers import Conv2D, MaxPooling2D, Dense, Dropout, Flatten\n",
    "from keras.optimizers import Adam\n",
    "from keras.preprocessing.image import ImageDataGenerator"
   ]
  },
  {
   "cell_type": "code",
   "execution_count": 2,
   "id": "54861b5d",
   "metadata": {},
   "outputs": [],
   "source": [
    "train_data_gen = ImageDataGenerator(rescale = 1./255)\n",
    "validation_data_gen = ImageDataGenerator(rescale = 1./255)"
   ]
  },
  {
   "cell_type": "code",
   "execution_count": 3,
   "id": "0fe0475a",
   "metadata": {},
   "outputs": [
    {
     "name": "stdout",
     "output_type": "stream",
     "text": [
      "Found 28821 images belonging to 7 classes.\n",
      "Found 7066 images belonging to 7 classes.\n"
     ]
    }
   ],
   "source": [
    "train_generator = train_data_gen.flow_from_directory(\n",
    "    'images/train',\n",
    "    target_size=(48,48),\n",
    "    batch_size = 64,\n",
    "    color_mode = 'grayscale',\n",
    "    class_mode = 'categorical')\n",
    "\n",
    "validation_generator = validation_data_gen.flow_from_directory(\n",
    "    'images/validation',\n",
    "    target_size=(48,48),\n",
    "    batch_size = 64,\n",
    "    color_mode = 'grayscale',\n",
    "    class_mode = 'categorical')"
   ]
  },
  {
   "cell_type": "code",
   "execution_count": 7,
   "id": "7dfa856c",
   "metadata": {},
   "outputs": [],
   "source": [
    "model = Sequential()\n",
    "\n",
    "model.add(Conv2D(32, kernel_size= (3, 3), activation='relu', input_shape = (48,48,1)))\n",
    "model.add(Conv2D(64, kernel_size = (3,3), activation='relu'))\n",
    "model.add(MaxPooling2D(pool_size=(2,2)))\n",
    "model.add(Dropout(0.25))\n",
    "\n",
    "model.add(Conv2D(128, kernel_size=(3, 3), activation = 'relu'))\n",
    "model.add(MaxPooling2D(pool_size=(2,2)))\n",
    "model.add(Conv2D(128, kernel_size=(3, 3), activation = 'relu'))\n",
    "model.add(MaxPooling2D(pool_size=(2,2)))\n",
    "model.add(Dropout(0.25))\n",
    "\n",
    "model.add(Flatten())\n",
    "model.add(Dense(1024, activation='relu'))\n",
    "model.add(Dropout(0.5))\n",
    "model.add(Dense(7, activation='softmax'))\n"
   ]
  },
  {
   "cell_type": "code",
   "execution_count": 11,
   "id": "c9ece46b",
   "metadata": {},
   "outputs": [],
   "source": [
    "model.compile(loss='categorical_crossentropy', optimizer=Adam(learning_rate = 0.0001, decay = 1e-6), metrics=['accuracy'])"
   ]
  },
  {
   "cell_type": "code",
   "execution_count": 10,
   "id": "5ba9a38d",
   "metadata": {},
   "outputs": [
    {
     "name": "stderr",
     "output_type": "stream",
     "text": [
      "C:\\Users\\Pravin kumar\\AppData\\Local\\Temp\\ipykernel_14068\\3173068367.py:1: UserWarning: `Model.fit_generator` is deprecated and will be removed in a future version. Please use `Model.fit`, which supports generators.\n",
      "  model.fit_generator(train_generator, steps_per_epoch = 28709//64, epochs = 50, validation_data = validation_generator, validation_steps = 7178//64)\n"
     ]
    },
    {
     "name": "stdout",
     "output_type": "stream",
     "text": [
      "Epoch 1/50\n",
      "448/448 [==============================] - ETA: 0s - loss: 1.8000 - accuracy: 0.2593WARNING:tensorflow:Your input ran out of data; interrupting training. Make sure that your dataset or generator can generate at least `steps_per_epoch * epochs` batches (in this case, 112 batches). You may need to use the repeat() function when building your dataset.\n",
      "448/448 [==============================] - 535s 1s/step - loss: 1.8000 - accuracy: 0.2593 - val_loss: 1.7075 - val_accuracy: 0.3398\n",
      "Epoch 2/50\n",
      "448/448 [==============================] - 201s 450ms/step - loss: 1.6287 - accuracy: 0.3673\n",
      "Epoch 3/50\n",
      "448/448 [==============================] - 114s 253ms/step - loss: 1.5266 - accuracy: 0.4136\n",
      "Epoch 4/50\n",
      "448/448 [==============================] - 112s 251ms/step - loss: 1.4507 - accuracy: 0.4443\n",
      "Epoch 5/50\n",
      "448/448 [==============================] - 111s 248ms/step - loss: 1.3869 - accuracy: 0.4720\n",
      "Epoch 6/50\n",
      "448/448 [==============================] - 349s 781ms/step - loss: 1.3383 - accuracy: 0.4911\n",
      "Epoch 7/50\n",
      "448/448 [==============================] - 132s 294ms/step - loss: 1.2990 - accuracy: 0.5094\n",
      "Epoch 8/50\n",
      "448/448 [==============================] - 116s 259ms/step - loss: 1.2601 - accuracy: 0.5252\n",
      "Epoch 9/50\n",
      "448/448 [==============================] - 114s 255ms/step - loss: 1.2254 - accuracy: 0.5398\n",
      "Epoch 10/50\n",
      "448/448 [==============================] - 123s 276ms/step - loss: 1.1933 - accuracy: 0.5523\n",
      "Epoch 11/50\n",
      "448/448 [==============================] - 113s 252ms/step - loss: 1.1658 - accuracy: 0.5606\n",
      "Epoch 12/50\n",
      "448/448 [==============================] - 110s 245ms/step - loss: 1.1408 - accuracy: 0.5734\n",
      "Epoch 13/50\n",
      "448/448 [==============================] - 108s 241ms/step - loss: 1.1187 - accuracy: 0.5828\n",
      "Epoch 14/50\n",
      "448/448 [==============================] - 114s 253ms/step - loss: 1.0900 - accuracy: 0.5903\n",
      "Epoch 15/50\n",
      "448/448 [==============================] - 112s 250ms/step - loss: 1.0652 - accuracy: 0.6033\n",
      "Epoch 16/50\n",
      "448/448 [==============================] - 110s 246ms/step - loss: 1.0451 - accuracy: 0.6109\n",
      "Epoch 17/50\n",
      "448/448 [==============================] - 115s 258ms/step - loss: 1.0206 - accuracy: 0.6200\n",
      "Epoch 18/50\n",
      "448/448 [==============================] - 111s 247ms/step - loss: 0.9995 - accuracy: 0.6301\n",
      "Epoch 19/50\n",
      "448/448 [==============================] - 114s 255ms/step - loss: 0.9762 - accuracy: 0.6373\n",
      "Epoch 20/50\n",
      "448/448 [==============================] - 113s 253ms/step - loss: 0.9524 - accuracy: 0.6463\n",
      "Epoch 21/50\n",
      "448/448 [==============================] - 111s 247ms/step - loss: 0.9233 - accuracy: 0.6588\n",
      "Epoch 22/50\n",
      "448/448 [==============================] - 115s 257ms/step - loss: 0.9048 - accuracy: 0.6658\n",
      "Epoch 23/50\n",
      "448/448 [==============================] - 114s 254ms/step - loss: 0.8839 - accuracy: 0.6749\n",
      "Epoch 24/50\n",
      "448/448 [==============================] - 112s 250ms/step - loss: 0.8682 - accuracy: 0.6786\n",
      "Epoch 25/50\n",
      "448/448 [==============================] - 450s 1s/step - loss: 0.8429 - accuracy: 0.6897\n",
      "Epoch 26/50\n",
      "448/448 [==============================] - 257s 573ms/step - loss: 0.8226 - accuracy: 0.6984\n",
      "Epoch 27/50\n",
      "448/448 [==============================] - 113s 252ms/step - loss: 0.8002 - accuracy: 0.7070\n",
      "Epoch 28/50\n",
      "448/448 [==============================] - 110s 244ms/step - loss: 0.7759 - accuracy: 0.7179\n",
      "Epoch 29/50\n",
      "448/448 [==============================] - 115s 256ms/step - loss: 0.7565 - accuracy: 0.7241\n",
      "Epoch 30/50\n",
      "448/448 [==============================] - 111s 248ms/step - loss: 0.7377 - accuracy: 0.7315\n",
      "Epoch 31/50\n",
      "448/448 [==============================] - 131s 293ms/step - loss: 0.7139 - accuracy: 0.7408\n",
      "Epoch 32/50\n",
      "448/448 [==============================] - 113s 252ms/step - loss: 0.6918 - accuracy: 0.7504\n",
      "Epoch 33/50\n",
      "448/448 [==============================] - 112s 250ms/step - loss: 0.6681 - accuracy: 0.7575\n",
      "Epoch 34/50\n",
      "448/448 [==============================] - 134s 298ms/step - loss: 0.6518 - accuracy: 0.7624\n",
      "Epoch 35/50\n",
      "448/448 [==============================] - 289s 646ms/step - loss: 0.6253 - accuracy: 0.7719\n",
      "Epoch 36/50\n",
      "448/448 [==============================] - 118s 262ms/step - loss: 0.6071 - accuracy: 0.7798\n",
      "Epoch 37/50\n",
      "448/448 [==============================] - 112s 250ms/step - loss: 0.5892 - accuracy: 0.7851\n",
      "Epoch 38/50\n",
      "448/448 [==============================] - 110s 244ms/step - loss: 0.5762 - accuracy: 0.7926\n",
      "Epoch 39/50\n",
      "448/448 [==============================] - 108s 241ms/step - loss: 0.5487 - accuracy: 0.8009\n",
      "Epoch 40/50\n",
      "448/448 [==============================] - 111s 248ms/step - loss: 0.5310 - accuracy: 0.8089\n",
      "Epoch 41/50\n",
      "448/448 [==============================] - 110s 244ms/step - loss: 0.5220 - accuracy: 0.8102\n",
      "Epoch 42/50\n",
      "448/448 [==============================] - 112s 251ms/step - loss: 0.4953 - accuracy: 0.8223\n",
      "Epoch 43/50\n",
      "448/448 [==============================] - 110s 245ms/step - loss: 0.4881 - accuracy: 0.8247\n",
      "Epoch 44/50\n",
      "448/448 [==============================] - 120s 268ms/step - loss: 0.4748 - accuracy: 0.8292\n",
      "Epoch 45/50\n",
      "448/448 [==============================] - 115s 257ms/step - loss: 0.4552 - accuracy: 0.8350\n",
      "Epoch 46/50\n",
      "448/448 [==============================] - 113s 252ms/step - loss: 0.4425 - accuracy: 0.8400\n",
      "Epoch 47/50\n",
      "448/448 [==============================] - 114s 253ms/step - loss: 0.4210 - accuracy: 0.8481\n",
      "Epoch 48/50\n",
      "448/448 [==============================] - 112s 249ms/step - loss: 0.4110 - accuracy: 0.8527\n",
      "Epoch 49/50\n",
      "448/448 [==============================] - 114s 255ms/step - loss: 0.4026 - accuracy: 0.8554\n",
      "Epoch 50/50\n",
      "448/448 [==============================] - 109s 242ms/step - loss: 0.3945 - accuracy: 0.8581\n"
     ]
    },
    {
     "data": {
      "text/plain": [
       "<keras.callbacks.History at 0x256a07b8490>"
      ]
     },
     "execution_count": 10,
     "metadata": {},
     "output_type": "execute_result"
    }
   ],
   "source": [
    "model.fit_generator(train_generator, steps_per_epoch = 28709//64, epochs = 50, validation_data = validation_generator, validation_steps = 7178//64)"
   ]
  },
  {
   "cell_type": "code",
   "execution_count": 11,
   "id": "73d724c1",
   "metadata": {},
   "outputs": [],
   "source": [
    "model1_json = model.to_json()\n",
    "with open('model.json', 'w') as json_file:\n",
    "    json_file.write(model1_json)"
   ]
  },
  {
   "cell_type": "code",
   "execution_count": 12,
   "id": "45abe3d9",
   "metadata": {},
   "outputs": [],
   "source": [
    "model.save_weights('model1.h5')"
   ]
  }
